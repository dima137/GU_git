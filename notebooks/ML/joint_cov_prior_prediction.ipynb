{
 "cells": [
  {
   "cell_type": "code",
   "execution_count": 59,
   "id": "9a69627f",
   "metadata": {},
   "outputs": [
    {
     "name": "stdout",
     "output_type": "stream",
     "text": [
      "1.24.3\n"
     ]
    }
   ],
   "source": [
    "import numpy as np\n",
    "import pandas as pd\n",
    "from matplotlib import pyplot\n",
    "print(np.__version__)\n",
    "#from sklearn.metrics import ConfusionMatrixDisplay\n",
    "#import seaborn\n",
    "\n",
    "import os\n",
    "import sys\n",
    "if '../../lib/' not in sys.path:\n",
    "    sys.path.append('../../lib/')\n",
    "\n",
    "import multi_fgl_utils as util\n",
    "import plot_util as putil\n",
    "import dio3"
   ]
  },
  {
   "cell_type": "code",
   "execution_count": 60,
   "id": "ae3f6635",
   "metadata": {},
   "outputs": [],
   "source": [
    "if 1:\n",
    "    import importlib\n",
    "    importlib.reload(util);\n"
   ]
  },
  {
   "cell_type": "code",
   "execution_count": 61,
   "id": "0f5756b5",
   "metadata": {},
   "outputs": [],
   "source": [
    "if 0:\n",
    "    save_plots = 1\n",
    "    save_png = 1\n",
    "\n",
    "    script_fn = 'GU_git/notebooks/ML/joint_cov_prior_prediction.ipynb'\n",
    "    fig_meta = {'Author': 'Dmitry Malyshev', 'Subject': script_fn}\n",
    "\n",
    "    plots_folder = '../../plots/ML/'\n",
    "    if not os.path.isdir(plots_folder):\n",
    "        print('Make folder')\n",
    "        os.makedirs(plots_folder)\n",
    "    print(plots_folder)\n"
   ]
  },
  {
   "cell_type": "code",
   "execution_count": 62,
   "id": "d4898f54",
   "metadata": {},
   "outputs": [
    {
     "name": "stdout",
     "output_type": "stream",
     "text": [
      "../../data_in/ML_catalogs/4FGL-DR4_v34_4classes_GMM_no_bcu_spp_no_coord_features_prob_cat.csv\n",
      "7191\n",
      "../../data_in/ML_catalogs/4FGL-DR4_v34_4classes_GMM_no_bcu_spp_no_coord_features_unas_unk_prior_shift_npar4_1Gauss_prob_cat.csv\n",
      "5859\n",
      "5859 5859\n",
      "fsrq+: fsrq, nlsy1, css\n",
      "bll+: bll, sey, sbg, agn, ssrq, rdg\n",
      "psr+: snr, hmb, nov, pwn, psr, gc\n",
      "msp+: msp, lmb, glc, gal, sfr, bin\n"
     ]
    }
   ],
   "source": [
    "# load catalogs and create output dataframe\n",
    "data_folder = '../../data_in/ML_catalogs/'\n",
    "fn_out = data_folder + '4FGL-DR4_v34_cov_shift_vs_prior_shift_prediction.csv'\n",
    "fn = data_folder + '4FGL-DR4_v34_4classes_GMM_no_bcu_spp_no_coord_features_prob_cat.csv'\n",
    "summary_fn = fn.replace('prob_cat.csv', 'summary.csv')\n",
    "cat_df1 = pd.read_csv(fn, index_col=0)\n",
    "sum_df1 = pd.read_csv(summary_fn, index_col=1, dtype=str)\n",
    "print(fn)\n",
    "print(len(cat_df1))\n",
    "\n",
    "fn = data_folder + '4FGL-DR4_v34_4classes_GMM_no_bcu_spp_no_coord_features_unas_unk_prior_shift_npar4_1Gauss_prob_cat.csv'\n",
    "summary_fn = fn.replace('prob_cat.csv', 'summary.csv')\n",
    "cat_df2 = pd.read_csv(fn, index_col=0)\n",
    "sum_df2 = pd.read_csv(summary_fn, index_col=1, dtype=str)\n",
    "gind = sum_df2['Group'].loc['Gauss']\n",
    "cat_df2['%s_PDF' % gind] = cat_df2['Gauss_PDF']\n",
    "print(fn)\n",
    "print(len(cat_df2))\n",
    "\n",
    "# subselect sources in cat_df1 which are also in cat_df2\n",
    "cat_df1 = cat_df1.loc[cat_df2.index]\n",
    "print(len(cat_df1), len(cat_df2))\n",
    "classes = sum_df1.index\n",
    "for cl in sum_df1.index:\n",
    "    print('%s: %s' %(cl, sum_df1['Physical classes'].loc[cl]))\n",
    "\n",
    "cat_dfs = [cat_df1, cat_df2]\n",
    "sum_dfs = [sum_df1, sum_df2]\n",
    "methods = ['RF', 'PDF']\n",
    "\n",
    "add_unc = True\n",
    "unc_name = 'uncert'\n",
    "pmin = 0.5\n",
    "out_df = cat_df2.copy()\n",
    "for i in range(1, len(classes) + 1):\n",
    "    out_df.pop('%i_PDF' % i)\n",
    "gauss_probs = out_df.pop('Gauss_PDF')"
   ]
  },
  {
   "cell_type": "code",
   "execution_count": 63,
   "id": "81af1854",
   "metadata": {},
   "outputs": [],
   "source": [
    "if 0:\n",
    "    print(classes)\n",
    "    print(cat_df1.columns)\n",
    "    print(cat_df2.columns)"
   ]
  },
  {
   "cell_type": "code",
   "execution_count": 64,
   "id": "2c53dd5b",
   "metadata": {},
   "outputs": [],
   "source": [
    "# find maximal probabilities and corresponding classes\n",
    "for k in range(2):\n",
    "    classes = sum_dfs[k].index\n",
    "    prob_clms = ['%i_%s' % (i, methods[k]) for i in range(1, len(classes) + 1)]\n",
    "    probs = np.array(cat_dfs[k][prob_clms])\n",
    "    out_df['%s_prob' % methods[k]] = np.max(probs, axis=1) \n",
    "    out_df['%s_class' % methods[k]] = classes[np.argmax(probs, axis=1)]\n",
    "    if add_unc:\n",
    "        unc_mask = np.max(probs, axis=1) < pmin\n",
    "        out_df.loc[unc_mask, '%s_class' % methods[k]] = unc_name"
   ]
  },
  {
   "cell_type": "code",
   "execution_count": 65,
   "id": "996e4efb",
   "metadata": {},
   "outputs": [],
   "source": [
    "#cat_df2"
   ]
  },
  {
   "cell_type": "code",
   "execution_count": 66,
   "id": "2d5e7c1d",
   "metadata": {},
   "outputs": [
    {
     "name": "stdout",
     "output_type": "stream",
     "text": [
      "Save the result to file:\n",
      "../../data_in/ML_catalogs/4FGL-DR4_v34_cov_shift_vs_prior_shift_prediction.csv\n"
     ]
    }
   ],
   "source": [
    "save_results = True\n",
    "if save_results:\n",
    "    print('Save the result to file:')\n",
    "    print(fn_out)\n",
    "    out_df.to_csv(fn_out)"
   ]
  },
  {
   "cell_type": "code",
   "execution_count": 67,
   "id": "6f06786d",
   "metadata": {},
   "outputs": [
    {
     "data": {
      "text/html": [
       "<div>\n",
       "<style scoped>\n",
       "    .dataframe tbody tr th:only-of-type {\n",
       "        vertical-align: middle;\n",
       "    }\n",
       "\n",
       "    .dataframe tbody tr th {\n",
       "        vertical-align: top;\n",
       "    }\n",
       "\n",
       "    .dataframe thead th {\n",
       "        text-align: right;\n",
       "    }\n",
       "</style>\n",
       "<table border=\"1\" class=\"dataframe\">\n",
       "  <thead>\n",
       "    <tr style=\"text-align: right;\">\n",
       "      <th></th>\n",
       "      <th>log10(Energy_Flux100)</th>\n",
       "      <th>LP_beta</th>\n",
       "      <th>log10(LP_EPeak)</th>\n",
       "      <th>GLON</th>\n",
       "      <th>GLAT</th>\n",
       "      <th>Signif_Avg</th>\n",
       "      <th>CLASS1</th>\n",
       "      <th>5_PDF</th>\n",
       "      <th>RF_prob</th>\n",
       "      <th>RF_class</th>\n",
       "      <th>PDF_prob</th>\n",
       "      <th>PDF_class</th>\n",
       "    </tr>\n",
       "  </thead>\n",
       "  <tbody>\n",
       "    <tr>\n",
       "      <th>4FGL J0000.3-7355</th>\n",
       "      <td>-11.760649</td>\n",
       "      <td>0.109999</td>\n",
       "      <td>0.030076</td>\n",
       "      <td>307.708984</td>\n",
       "      <td>-42.729538</td>\n",
       "      <td>8.492646</td>\n",
       "      <td>unas</td>\n",
       "      <td>6.070503e-02</td>\n",
       "      <td>0.948705</td>\n",
       "      <td>bll+</td>\n",
       "      <td>0.608683</td>\n",
       "      <td>bll+</td>\n",
       "    </tr>\n",
       "    <tr>\n",
       "      <th>4FGL J0000.5+0743</th>\n",
       "      <td>-11.714305</td>\n",
       "      <td>0.109660</td>\n",
       "      <td>-0.349232</td>\n",
       "      <td>101.656479</td>\n",
       "      <td>-53.029457</td>\n",
       "      <td>5.681097</td>\n",
       "      <td>unas</td>\n",
       "      <td>2.473722e-01</td>\n",
       "      <td>0.491909</td>\n",
       "      <td>uncert</td>\n",
       "      <td>0.394922</td>\n",
       "      <td>uncert</td>\n",
       "    </tr>\n",
       "    <tr>\n",
       "      <th>4FGL J0000.7+2530</th>\n",
       "      <td>-12.094175</td>\n",
       "      <td>0.251122</td>\n",
       "      <td>0.948690</td>\n",
       "      <td>108.775070</td>\n",
       "      <td>-35.959175</td>\n",
       "      <td>4.197268</td>\n",
       "      <td>unas</td>\n",
       "      <td>6.024921e-08</td>\n",
       "      <td>0.956818</td>\n",
       "      <td>bll+</td>\n",
       "      <td>0.957467</td>\n",
       "      <td>bll+</td>\n",
       "    </tr>\n",
       "    <tr>\n",
       "      <th>4FGL J0001.2+4741</th>\n",
       "      <td>-11.863557</td>\n",
       "      <td>0.049796</td>\n",
       "      <td>0.009480</td>\n",
       "      <td>114.250198</td>\n",
       "      <td>-14.338059</td>\n",
       "      <td>5.523873</td>\n",
       "      <td>bcu</td>\n",
       "      <td>1.765166e-02</td>\n",
       "      <td>0.903150</td>\n",
       "      <td>bll+</td>\n",
       "      <td>0.830926</td>\n",
       "      <td>bll+</td>\n",
       "    </tr>\n",
       "    <tr>\n",
       "      <th>4FGL J0001.2-0747</th>\n",
       "      <td>-11.107484</td>\n",
       "      <td>0.037899</td>\n",
       "      <td>0.014316</td>\n",
       "      <td>89.032722</td>\n",
       "      <td>-67.305008</td>\n",
       "      <td>24.497219</td>\n",
       "      <td>bll</td>\n",
       "      <td>3.456359e-01</td>\n",
       "      <td>0.985132</td>\n",
       "      <td>bll+</td>\n",
       "      <td>0.345636</td>\n",
       "      <td>uncert</td>\n",
       "    </tr>\n",
       "    <tr>\n",
       "      <th>...</th>\n",
       "      <td>...</td>\n",
       "      <td>...</td>\n",
       "      <td>...</td>\n",
       "      <td>...</td>\n",
       "      <td>...</td>\n",
       "      <td>...</td>\n",
       "      <td>...</td>\n",
       "      <td>...</td>\n",
       "      <td>...</td>\n",
       "      <td>...</td>\n",
       "      <td>...</td>\n",
       "      <td>...</td>\n",
       "    </tr>\n",
       "    <tr>\n",
       "      <th>4FGL J2359.3+2502</th>\n",
       "      <td>-11.877070</td>\n",
       "      <td>0.135214</td>\n",
       "      <td>0.473850</td>\n",
       "      <td>108.247383</td>\n",
       "      <td>-36.340054</td>\n",
       "      <td>5.558664</td>\n",
       "      <td>unas</td>\n",
       "      <td>5.431069e-04</td>\n",
       "      <td>0.939121</td>\n",
       "      <td>bll+</td>\n",
       "      <td>0.820429</td>\n",
       "      <td>bll+</td>\n",
       "    </tr>\n",
       "    <tr>\n",
       "      <th>4FGL J2359.3+1444</th>\n",
       "      <td>-11.627869</td>\n",
       "      <td>0.222978</td>\n",
       "      <td>-0.689550</td>\n",
       "      <td>104.564713</td>\n",
       "      <td>-46.256252</td>\n",
       "      <td>7.791155</td>\n",
       "      <td>unas</td>\n",
       "      <td>5.793107e-01</td>\n",
       "      <td>0.672280</td>\n",
       "      <td>fsrq+</td>\n",
       "      <td>0.579311</td>\n",
       "      <td>Gauss</td>\n",
       "    </tr>\n",
       "    <tr>\n",
       "      <th>4FGL J2359.7-5041</th>\n",
       "      <td>-11.952324</td>\n",
       "      <td>0.446554</td>\n",
       "      <td>-0.455627</td>\n",
       "      <td>322.128052</td>\n",
       "      <td>-64.472755</td>\n",
       "      <td>5.150436</td>\n",
       "      <td>bcu</td>\n",
       "      <td>6.862009e-01</td>\n",
       "      <td>0.440625</td>\n",
       "      <td>uncert</td>\n",
       "      <td>0.686201</td>\n",
       "      <td>Gauss</td>\n",
       "    </tr>\n",
       "    <tr>\n",
       "      <th>4FGL J2359.9-3736</th>\n",
       "      <td>-11.756382</td>\n",
       "      <td>0.185941</td>\n",
       "      <td>0.285051</td>\n",
       "      <td>345.662842</td>\n",
       "      <td>-74.919624</td>\n",
       "      <td>11.475555</td>\n",
       "      <td>bcu</td>\n",
       "      <td>1.391978e-02</td>\n",
       "      <td>0.809720</td>\n",
       "      <td>bll+</td>\n",
       "      <td>0.683712</td>\n",
       "      <td>bll+</td>\n",
       "    </tr>\n",
       "    <tr>\n",
       "      <th>4FGL J2359.9+3145</th>\n",
       "      <td>-11.615293</td>\n",
       "      <td>0.139681</td>\n",
       "      <td>0.982413</td>\n",
       "      <td>110.321007</td>\n",
       "      <td>-29.848009</td>\n",
       "      <td>11.307343</td>\n",
       "      <td>bcu</td>\n",
       "      <td>6.264506e-08</td>\n",
       "      <td>0.987001</td>\n",
       "      <td>bll+</td>\n",
       "      <td>0.965403</td>\n",
       "      <td>bll+</td>\n",
       "    </tr>\n",
       "  </tbody>\n",
       "</table>\n",
       "<p>5859 rows × 12 columns</p>\n",
       "</div>"
      ],
      "text/plain": [
       "                   log10(Energy_Flux100)   LP_beta  log10(LP_EPeak)  \\\n",
       "4FGL J0000.3-7355             -11.760649  0.109999         0.030076   \n",
       "4FGL J0000.5+0743             -11.714305  0.109660        -0.349232   \n",
       "4FGL J0000.7+2530             -12.094175  0.251122         0.948690   \n",
       "4FGL J0001.2+4741             -11.863557  0.049796         0.009480   \n",
       "4FGL J0001.2-0747             -11.107484  0.037899         0.014316   \n",
       "...                                  ...       ...              ...   \n",
       "4FGL J2359.3+2502             -11.877070  0.135214         0.473850   \n",
       "4FGL J2359.3+1444             -11.627869  0.222978        -0.689550   \n",
       "4FGL J2359.7-5041             -11.952324  0.446554        -0.455627   \n",
       "4FGL J2359.9-3736             -11.756382  0.185941         0.285051   \n",
       "4FGL J2359.9+3145             -11.615293  0.139681         0.982413   \n",
       "\n",
       "                         GLON       GLAT  Signif_Avg CLASS1         5_PDF  \\\n",
       "4FGL J0000.3-7355  307.708984 -42.729538    8.492646   unas  6.070503e-02   \n",
       "4FGL J0000.5+0743  101.656479 -53.029457    5.681097   unas  2.473722e-01   \n",
       "4FGL J0000.7+2530  108.775070 -35.959175    4.197268   unas  6.024921e-08   \n",
       "4FGL J0001.2+4741  114.250198 -14.338059    5.523873    bcu  1.765166e-02   \n",
       "4FGL J0001.2-0747   89.032722 -67.305008   24.497219    bll  3.456359e-01   \n",
       "...                       ...        ...         ...    ...           ...   \n",
       "4FGL J2359.3+2502  108.247383 -36.340054    5.558664   unas  5.431069e-04   \n",
       "4FGL J2359.3+1444  104.564713 -46.256252    7.791155   unas  5.793107e-01   \n",
       "4FGL J2359.7-5041  322.128052 -64.472755    5.150436    bcu  6.862009e-01   \n",
       "4FGL J2359.9-3736  345.662842 -74.919624   11.475555    bcu  1.391978e-02   \n",
       "4FGL J2359.9+3145  110.321007 -29.848009   11.307343    bcu  6.264506e-08   \n",
       "\n",
       "                    RF_prob RF_class  PDF_prob PDF_class  \n",
       "4FGL J0000.3-7355  0.948705     bll+  0.608683      bll+  \n",
       "4FGL J0000.5+0743  0.491909   uncert  0.394922    uncert  \n",
       "4FGL J0000.7+2530  0.956818     bll+  0.957467      bll+  \n",
       "4FGL J0001.2+4741  0.903150     bll+  0.830926      bll+  \n",
       "4FGL J0001.2-0747  0.985132     bll+  0.345636    uncert  \n",
       "...                     ...      ...       ...       ...  \n",
       "4FGL J2359.3+2502  0.939121     bll+  0.820429      bll+  \n",
       "4FGL J2359.3+1444  0.672280    fsrq+  0.579311     Gauss  \n",
       "4FGL J2359.7-5041  0.440625   uncert  0.686201     Gauss  \n",
       "4FGL J2359.9-3736  0.809720     bll+  0.683712      bll+  \n",
       "4FGL J2359.9+3145  0.987001     bll+  0.965403      bll+  \n",
       "\n",
       "[5859 rows x 12 columns]"
      ]
     },
     "execution_count": 67,
     "metadata": {},
     "output_type": "execute_result"
    }
   ],
   "source": [
    "out_df"
   ]
  },
  {
   "cell_type": "code",
   "execution_count": 68,
   "id": "2a4fd402",
   "metadata": {},
   "outputs": [],
   "source": [
    "# calculate confusion matrix\n",
    "unas_mask = (out_df['CLASS1'] == 'unas') | (out_df['CLASS1'] == 'unk')\n",
    "assoc_mask = ~unas_mask\n",
    "#unas_mask = (out_df['CLASS1'] == 'bcu')\n",
    "bmask = 10\n",
    "lat_mask = np.abs(out_df['GLAT']) > bmask\n",
    "mask = unas_mask & lat_mask\n",
    "classes1 = list(sum_df1.index)\n",
    "classes2 = list(sum_df2.index)\n",
    "if add_unc:\n",
    "    classes1.append(unc_name)\n",
    "    classes2.append(unc_name)\n",
    "conf_df = pd.DataFrame(columns=classes2, index=classes1)"
   ]
  },
  {
   "cell_type": "code",
   "execution_count": 69,
   "id": "5a3e06cf",
   "metadata": {},
   "outputs": [],
   "source": [
    "for cl1 in classes1:\n",
    "    for cl2 in classes2:\n",
    "        #print(cl1, cl2)\n",
    "        #print(sum((out_df[mask]['RF_class'] == cl1)))\n",
    "        res = sum((out_df[mask]['RF_class'] == cl1) & (out_df[mask]['PDF_class'] == cl2))\n",
    "        conf_df.loc[cl1, cl2] = res\n"
   ]
  },
  {
   "cell_type": "code",
   "execution_count": 70,
   "id": "6f7f0f86",
   "metadata": {},
   "outputs": [],
   "source": [
    "conf_df.index.name = 'Covar\\Prior'"
   ]
  },
  {
   "cell_type": "code",
   "execution_count": 71,
   "id": "d66c0627",
   "metadata": {},
   "outputs": [
    {
     "data": {
      "text/html": [
       "<div>\n",
       "<style scoped>\n",
       "    .dataframe tbody tr th:only-of-type {\n",
       "        vertical-align: middle;\n",
       "    }\n",
       "\n",
       "    .dataframe tbody tr th {\n",
       "        vertical-align: top;\n",
       "    }\n",
       "\n",
       "    .dataframe thead th {\n",
       "        text-align: right;\n",
       "    }\n",
       "</style>\n",
       "<table border=\"1\" class=\"dataframe\">\n",
       "  <thead>\n",
       "    <tr style=\"text-align: right;\">\n",
       "      <th></th>\n",
       "      <th>fsrq+</th>\n",
       "      <th>bll+</th>\n",
       "      <th>psr+</th>\n",
       "      <th>msp+</th>\n",
       "      <th>Gauss</th>\n",
       "      <th>uncert</th>\n",
       "    </tr>\n",
       "    <tr>\n",
       "      <th>Covar\\Prior</th>\n",
       "      <th></th>\n",
       "      <th></th>\n",
       "      <th></th>\n",
       "      <th></th>\n",
       "      <th></th>\n",
       "      <th></th>\n",
       "    </tr>\n",
       "  </thead>\n",
       "  <tbody>\n",
       "    <tr>\n",
       "      <th>fsrq+</th>\n",
       "      <td>107</td>\n",
       "      <td>1</td>\n",
       "      <td>1</td>\n",
       "      <td>0</td>\n",
       "      <td>80</td>\n",
       "      <td>20</td>\n",
       "    </tr>\n",
       "    <tr>\n",
       "      <th>bll+</th>\n",
       "      <td>7</td>\n",
       "      <td>376</td>\n",
       "      <td>1</td>\n",
       "      <td>22</td>\n",
       "      <td>0</td>\n",
       "      <td>68</td>\n",
       "    </tr>\n",
       "    <tr>\n",
       "      <th>psr+</th>\n",
       "      <td>0</td>\n",
       "      <td>0</td>\n",
       "      <td>0</td>\n",
       "      <td>0</td>\n",
       "      <td>1</td>\n",
       "      <td>1</td>\n",
       "    </tr>\n",
       "    <tr>\n",
       "      <th>msp+</th>\n",
       "      <td>0</td>\n",
       "      <td>0</td>\n",
       "      <td>0</td>\n",
       "      <td>81</td>\n",
       "      <td>28</td>\n",
       "      <td>5</td>\n",
       "    </tr>\n",
       "    <tr>\n",
       "      <th>uncert</th>\n",
       "      <td>24</td>\n",
       "      <td>12</td>\n",
       "      <td>0</td>\n",
       "      <td>46</td>\n",
       "      <td>74</td>\n",
       "      <td>49</td>\n",
       "    </tr>\n",
       "  </tbody>\n",
       "</table>\n",
       "</div>"
      ],
      "text/plain": [
       "            fsrq+ bll+ psr+ msp+ Gauss uncert\n",
       "Covar\\Prior                                  \n",
       "fsrq+         107    1    1    0    80     20\n",
       "bll+            7  376    1   22     0     68\n",
       "psr+            0    0    0    0     1      1\n",
       "msp+            0    0    0   81    28      5\n",
       "uncert         24   12    0   46    74     49"
      ]
     },
     "execution_count": 71,
     "metadata": {},
     "output_type": "execute_result"
    }
   ],
   "source": [
    "conf_df"
   ]
  },
  {
   "cell_type": "code",
   "execution_count": 72,
   "id": "b52ea982",
   "metadata": {},
   "outputs": [
    {
     "name": "stdout",
     "output_type": "stream",
     "text": [
      "\\begin{tabular}{lllllll}\n",
      "\\hline\n",
      " & fsrq+ & bll+ & psr+ & msp+ & Gauss & uncert \\\\\n",
      "Covar\\Prior &  &  &  &  &  &  \\\\\n",
      "\\hline\n",
      "fsrq+ & 107 & 1 & 1 & 0 & 80 & 20 \\\\\n",
      "bll+ & 7 & 376 & 1 & 22 & 0 & 68 \\\\\n",
      "psr+ & 0 & 0 & 0 & 0 & 1 & 1 \\\\\n",
      "msp+ & 0 & 0 & 0 & 81 & 28 & 5 \\\\\n",
      "uncert & 24 & 12 & 0 & 46 & 74 & 49 \\\\\n",
      "\\hline\n",
      "\\end{tabular}\n",
      "\n"
     ]
    }
   ],
   "source": [
    "txt = util.df2tex(conf_df, fmt='%.1f', index=True, index_name='')\n",
    "print(txt)"
   ]
  },
  {
   "cell_type": "code",
   "execution_count": 73,
   "id": "4ed8877d",
   "metadata": {},
   "outputs": [
    {
     "data": {
      "text/plain": [
       "(808, 1034)"
      ]
     },
     "execution_count": 73,
     "metadata": {},
     "output_type": "execute_result"
    }
   ],
   "source": [
    "sum(out_df['PDF_class'] == unc_name), sum(out_df['RF_class'] == unc_name)"
   ]
  },
  {
   "cell_type": "code",
   "execution_count": 74,
   "id": "b84e5f42",
   "metadata": {},
   "outputs": [
    {
     "data": {
      "text/plain": [
       "(143, 205)"
      ]
     },
     "execution_count": 74,
     "metadata": {},
     "output_type": "execute_result"
    }
   ],
   "source": [
    "sum(out_df.loc[mask, 'PDF_class'] == unc_name), sum(out_df.loc[mask, 'RF_class'] == unc_name)"
   ]
  },
  {
   "cell_type": "code",
   "execution_count": 75,
   "id": "e264b30a",
   "metadata": {},
   "outputs": [
    {
     "data": {
      "text/plain": [
       "806"
      ]
     },
     "execution_count": 75,
     "metadata": {},
     "output_type": "execute_result"
    }
   ],
   "source": [
    "sum((out_df['PDF_class'][unas_mask] == 'Gauss') & (out_df['PDF_prob'][unas_mask] > 0.5))"
   ]
  },
  {
   "cell_type": "code",
   "execution_count": 76,
   "id": "7e70aefe",
   "metadata": {},
   "outputs": [
    {
     "data": {
      "text/plain": [
       "'5'"
      ]
     },
     "execution_count": 76,
     "metadata": {},
     "output_type": "execute_result"
    }
   ],
   "source": [
    "gind"
   ]
  },
  {
   "cell_type": "code",
   "execution_count": null,
   "id": "d1579f40",
   "metadata": {},
   "outputs": [],
   "source": []
  }
 ],
 "metadata": {
  "kernelspec": {
   "display_name": "Python 3 (ipykernel)",
   "language": "python",
   "name": "python3"
  },
  "language_info": {
   "codemirror_mode": {
    "name": "ipython",
    "version": 3
   },
   "file_extension": ".py",
   "mimetype": "text/x-python",
   "name": "python",
   "nbconvert_exporter": "python",
   "pygments_lexer": "ipython3",
   "version": "3.10.14"
  }
 },
 "nbformat": 4,
 "nbformat_minor": 5
}
