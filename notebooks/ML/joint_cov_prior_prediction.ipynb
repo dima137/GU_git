{
 "cells": [
  {
   "cell_type": "code",
   "execution_count": 107,
   "id": "9a69627f",
   "metadata": {},
   "outputs": [
    {
     "name": "stdout",
     "output_type": "stream",
     "text": [
      "1.26.4\n"
     ]
    }
   ],
   "source": [
    "import numpy as np\n",
    "import pandas as pd\n",
    "from matplotlib import pyplot\n",
    "print(np.__version__)\n",
    "#from sklearn.metrics import ConfusionMatrixDisplay\n",
    "#import seaborn\n",
    "\n",
    "import os\n",
    "import sys\n",
    "if '../../lib/' not in sys.path:\n",
    "    sys.path.append('../../lib/')\n",
    "\n",
    "import multi_fgl_utils as util\n",
    "import plot_util as putil\n",
    "import dio3"
   ]
  },
  {
   "cell_type": "code",
   "execution_count": 108,
   "id": "ae3f6635",
   "metadata": {},
   "outputs": [],
   "source": [
    "if 1:\n",
    "    import importlib\n",
    "    importlib.reload(util);\n"
   ]
  },
  {
   "cell_type": "code",
   "execution_count": 109,
   "id": "0f5756b5",
   "metadata": {},
   "outputs": [],
   "source": [
    "if 0:\n",
    "    save_plots = 1\n",
    "    save_png = 1\n",
    "\n",
    "    script_fn = 'GU_git/notebooks/ML/joint_cov_prior_prediction.ipynb'\n",
    "    fig_meta = {'Author': 'Dmitry Malyshev', 'Subject': script_fn}\n",
    "\n",
    "    plots_folder = '../../plots/ML/'\n",
    "    if not os.path.isdir(plots_folder):\n",
    "        print('Make folder')\n",
    "        os.makedirs(plots_folder)\n",
    "    print(plots_folder)\n"
   ]
  },
  {
   "cell_type": "code",
   "execution_count": 110,
   "id": "d4898f54",
   "metadata": {},
   "outputs": [
    {
     "name": "stdout",
     "output_type": "stream",
     "text": [
      "../../data_in/ML_catalogs/4FGL-DR4_v34_4classes_GMM_no_bcu_spp_no_coord_features_prob_cat.csv\n",
      "7191\n",
      "../../data_in/ML_catalogs/4FGL-DR4_v34_4classes_GMM_no_bcu_spp_no_coord_features_unas_unk_prior_shift_npar4_1Gauss_prob_cat.csv\n",
      "5859\n",
      "5859 5859\n",
      "fsrq+: fsrq, nlsy1, css\n",
      "bll+: bll, sey, sbg, agn, ssrq, rdg\n",
      "psr+: snr, hmb, nov, pwn, psr, gc\n",
      "msp+: msp, lmb, glc, gal, sfr, bin\n"
     ]
    }
   ],
   "source": [
    "# load catalogs and create output dataframe\n",
    "data_folder = '../../data_in/ML_catalogs/'\n",
    "fn_out = data_folder + '4FGL-DR4_v34_cov_shift_vs_prior_shift_prediction.csv'\n",
    "fn = data_folder + '4FGL-DR4_v34_4classes_GMM_no_bcu_spp_no_coord_features_prob_cat.csv'\n",
    "summary_fn = fn.replace('prob_cat.csv', 'summary.csv')\n",
    "cat_df1 = pd.read_csv(fn, index_col=0)\n",
    "sum_df1 = pd.read_csv(summary_fn, index_col=1, dtype=str)\n",
    "print(fn)\n",
    "print(len(cat_df1))\n",
    "\n",
    "fn = data_folder + '4FGL-DR4_v34_4classes_GMM_no_bcu_spp_no_coord_features_unas_unk_prior_shift_npar4_1Gauss_prob_cat.csv'\n",
    "summary_fn = fn.replace('prob_cat.csv', 'summary.csv')\n",
    "cat_df2 = pd.read_csv(fn, index_col=0)\n",
    "sum_df2 = pd.read_csv(summary_fn, index_col=1, dtype=str)\n",
    "gind = sum_df2['Group'].loc['Gauss']\n",
    "cat_df2['%s_PDF' % gind] = cat_df2['Gauss_PDF']\n",
    "print(fn)\n",
    "print(len(cat_df2))\n",
    "\n",
    "# subselect sources in cat_df1 which are also in cat_df2\n",
    "cat_df1 = cat_df1.loc[cat_df2.index]\n",
    "print(len(cat_df1), len(cat_df2))\n",
    "classes = sum_df1.index\n",
    "for cl in sum_df1.index:\n",
    "    print('%s: %s' %(cl, sum_df1['Physical classes'].loc[cl]))\n",
    "\n",
    "cat_dfs = [cat_df1, cat_df2]\n",
    "sum_dfs = [sum_df1, sum_df2]\n",
    "methods = ['RF', 'PDF']\n",
    "\n",
    "add_unc = True\n",
    "unc_name = 'uncert'\n",
    "pmin = 0.5\n",
    "out_df = cat_df2.copy()\n",
    "for i in range(1, len(classes) + 1):\n",
    "    out_df.pop('%i_PDF' % i)\n",
    "gauss_probs = out_df.pop('Gauss_PDF')"
   ]
  },
  {
   "cell_type": "code",
   "execution_count": 111,
   "id": "f1a1183f",
   "metadata": {},
   "outputs": [],
   "source": [
    "if 0:\n",
    "    print(classes)\n",
    "    print(cat_df1.columns)\n",
    "    print(cat_df2.columns)"
   ]
  },
  {
   "cell_type": "code",
   "execution_count": 112,
   "id": "2c53dd5b",
   "metadata": {},
   "outputs": [],
   "source": [
    "# find maximal probabilities and corresponding classes\n",
    "for k in range(2):\n",
    "    classes = sum_dfs[k].index\n",
    "    prob_clms = ['%i_%s' % (i, methods[k]) for i in range(1, len(classes) + 1)]\n",
    "    probs = np.array(cat_dfs[k][prob_clms])\n",
    "    out_df['%s_prob' % methods[k]] = np.max(probs, axis=1) \n",
    "    out_df['%s_class' % methods[k]] = classes[np.argmax(probs, axis=1)]\n",
    "    if add_unc and 0:\n",
    "        unc_mask = np.max(probs, axis=1) < pmin\n",
    "        out_df.loc[unc_mask, '%s_class' % methods[k]] = unc_name"
   ]
  },
  {
   "cell_type": "code",
   "execution_count": 113,
   "id": "c65f8233",
   "metadata": {},
   "outputs": [],
   "source": [
    "#cat_df2"
   ]
  },
  {
   "cell_type": "code",
   "execution_count": 114,
   "id": "2d5e7c1d",
   "metadata": {},
   "outputs": [
    {
     "name": "stdout",
     "output_type": "stream",
     "text": [
      "Save the result to file:\n",
      "../../data_in/ML_catalogs/4FGL-DR4_v34_cov_shift_vs_prior_shift_prediction.csv\n"
     ]
    }
   ],
   "source": [
    "save_results = True\n",
    "if save_results:\n",
    "    print('Save the result to file:')\n",
    "    print(fn_out)\n",
    "    out_df.to_csv(fn_out)"
   ]
  },
  {
   "cell_type": "code",
   "execution_count": 115,
   "id": "6f06786d",
   "metadata": {},
   "outputs": [
    {
     "data": {
      "text/html": [
       "<div>\n",
       "<style scoped>\n",
       "    .dataframe tbody tr th:only-of-type {\n",
       "        vertical-align: middle;\n",
       "    }\n",
       "\n",
       "    .dataframe tbody tr th {\n",
       "        vertical-align: top;\n",
       "    }\n",
       "\n",
       "    .dataframe thead th {\n",
       "        text-align: right;\n",
       "    }\n",
       "</style>\n",
       "<table border=\"1\" class=\"dataframe\">\n",
       "  <thead>\n",
       "    <tr style=\"text-align: right;\">\n",
       "      <th></th>\n",
       "      <th>log10(Energy_Flux100)</th>\n",
       "      <th>LP_beta</th>\n",
       "      <th>log10(LP_EPeak)</th>\n",
       "      <th>GLON</th>\n",
       "      <th>GLAT</th>\n",
       "      <th>Signif_Avg</th>\n",
       "      <th>CLASS1</th>\n",
       "      <th>5_PDF</th>\n",
       "      <th>RF_prob</th>\n",
       "      <th>RF_class</th>\n",
       "      <th>PDF_prob</th>\n",
       "      <th>PDF_class</th>\n",
       "    </tr>\n",
       "  </thead>\n",
       "  <tbody>\n",
       "    <tr>\n",
       "      <th>4FGL J0000.3-7355</th>\n",
       "      <td>-11.760649</td>\n",
       "      <td>0.109999</td>\n",
       "      <td>0.030076</td>\n",
       "      <td>307.708984</td>\n",
       "      <td>-42.729538</td>\n",
       "      <td>8.492646</td>\n",
       "      <td>unas</td>\n",
       "      <td>0.126976</td>\n",
       "      <td>0.948705</td>\n",
       "      <td>bll+</td>\n",
       "      <td>0.575888</td>\n",
       "      <td>bll+</td>\n",
       "    </tr>\n",
       "    <tr>\n",
       "      <th>4FGL J0000.5+0743</th>\n",
       "      <td>-11.714305</td>\n",
       "      <td>0.109660</td>\n",
       "      <td>-0.349232</td>\n",
       "      <td>101.656479</td>\n",
       "      <td>-53.029457</td>\n",
       "      <td>5.681097</td>\n",
       "      <td>unas</td>\n",
       "      <td>0.320507</td>\n",
       "      <td>0.491909</td>\n",
       "      <td>fsrq+</td>\n",
       "      <td>0.350479</td>\n",
       "      <td>bll+</td>\n",
       "    </tr>\n",
       "    <tr>\n",
       "      <th>4FGL J0000.7+2530</th>\n",
       "      <td>-12.094175</td>\n",
       "      <td>0.251122</td>\n",
       "      <td>0.948690</td>\n",
       "      <td>108.775070</td>\n",
       "      <td>-35.959175</td>\n",
       "      <td>4.197268</td>\n",
       "      <td>unas</td>\n",
       "      <td>0.000004</td>\n",
       "      <td>0.956818</td>\n",
       "      <td>bll+</td>\n",
       "      <td>0.968732</td>\n",
       "      <td>bll+</td>\n",
       "    </tr>\n",
       "    <tr>\n",
       "      <th>4FGL J0001.2+4741</th>\n",
       "      <td>-11.863557</td>\n",
       "      <td>0.049796</td>\n",
       "      <td>0.009480</td>\n",
       "      <td>114.250198</td>\n",
       "      <td>-14.338059</td>\n",
       "      <td>5.523873</td>\n",
       "      <td>bcu</td>\n",
       "      <td>0.039535</td>\n",
       "      <td>0.903150</td>\n",
       "      <td>bll+</td>\n",
       "      <td>0.832919</td>\n",
       "      <td>bll+</td>\n",
       "    </tr>\n",
       "    <tr>\n",
       "      <th>4FGL J0001.2-0747</th>\n",
       "      <td>-11.107484</td>\n",
       "      <td>0.037899</td>\n",
       "      <td>0.014316</td>\n",
       "      <td>89.032722</td>\n",
       "      <td>-67.305008</td>\n",
       "      <td>24.497219</td>\n",
       "      <td>bll</td>\n",
       "      <td>0.515618</td>\n",
       "      <td>0.985132</td>\n",
       "      <td>bll+</td>\n",
       "      <td>0.515618</td>\n",
       "      <td>Gauss</td>\n",
       "    </tr>\n",
       "    <tr>\n",
       "      <th>...</th>\n",
       "      <td>...</td>\n",
       "      <td>...</td>\n",
       "      <td>...</td>\n",
       "      <td>...</td>\n",
       "      <td>...</td>\n",
       "      <td>...</td>\n",
       "      <td>...</td>\n",
       "      <td>...</td>\n",
       "      <td>...</td>\n",
       "      <td>...</td>\n",
       "      <td>...</td>\n",
       "      <td>...</td>\n",
       "    </tr>\n",
       "    <tr>\n",
       "      <th>4FGL J2359.3+2502</th>\n",
       "      <td>-11.877070</td>\n",
       "      <td>0.135214</td>\n",
       "      <td>0.473850</td>\n",
       "      <td>108.247383</td>\n",
       "      <td>-36.340054</td>\n",
       "      <td>5.558664</td>\n",
       "      <td>unas</td>\n",
       "      <td>0.004069</td>\n",
       "      <td>0.939121</td>\n",
       "      <td>bll+</td>\n",
       "      <td>0.854659</td>\n",
       "      <td>bll+</td>\n",
       "    </tr>\n",
       "    <tr>\n",
       "      <th>4FGL J2359.3+1444</th>\n",
       "      <td>-11.627869</td>\n",
       "      <td>0.222978</td>\n",
       "      <td>-0.689550</td>\n",
       "      <td>104.564713</td>\n",
       "      <td>-46.256252</td>\n",
       "      <td>7.791155</td>\n",
       "      <td>unas</td>\n",
       "      <td>0.629332</td>\n",
       "      <td>0.672280</td>\n",
       "      <td>fsrq+</td>\n",
       "      <td>0.629332</td>\n",
       "      <td>Gauss</td>\n",
       "    </tr>\n",
       "    <tr>\n",
       "      <th>4FGL J2359.7-5041</th>\n",
       "      <td>-11.952324</td>\n",
       "      <td>0.446554</td>\n",
       "      <td>-0.455627</td>\n",
       "      <td>322.128052</td>\n",
       "      <td>-64.472755</td>\n",
       "      <td>5.150436</td>\n",
       "      <td>bcu</td>\n",
       "      <td>0.645864</td>\n",
       "      <td>0.440625</td>\n",
       "      <td>fsrq+</td>\n",
       "      <td>0.645864</td>\n",
       "      <td>Gauss</td>\n",
       "    </tr>\n",
       "    <tr>\n",
       "      <th>4FGL J2359.9-3736</th>\n",
       "      <td>-11.756382</td>\n",
       "      <td>0.185941</td>\n",
       "      <td>0.285051</td>\n",
       "      <td>345.662842</td>\n",
       "      <td>-74.919624</td>\n",
       "      <td>11.475555</td>\n",
       "      <td>bcu</td>\n",
       "      <td>0.050086</td>\n",
       "      <td>0.809720</td>\n",
       "      <td>bll+</td>\n",
       "      <td>0.661594</td>\n",
       "      <td>bll+</td>\n",
       "    </tr>\n",
       "    <tr>\n",
       "      <th>4FGL J2359.9+3145</th>\n",
       "      <td>-11.615293</td>\n",
       "      <td>0.139681</td>\n",
       "      <td>0.982413</td>\n",
       "      <td>110.321007</td>\n",
       "      <td>-29.848009</td>\n",
       "      <td>11.307343</td>\n",
       "      <td>bcu</td>\n",
       "      <td>0.000009</td>\n",
       "      <td>0.987001</td>\n",
       "      <td>bll+</td>\n",
       "      <td>0.977235</td>\n",
       "      <td>bll+</td>\n",
       "    </tr>\n",
       "  </tbody>\n",
       "</table>\n",
       "<p>5859 rows × 12 columns</p>\n",
       "</div>"
      ],
      "text/plain": [
       "                   log10(Energy_Flux100)   LP_beta  log10(LP_EPeak)  \\\n",
       "4FGL J0000.3-7355             -11.760649  0.109999         0.030076   \n",
       "4FGL J0000.5+0743             -11.714305  0.109660        -0.349232   \n",
       "4FGL J0000.7+2530             -12.094175  0.251122         0.948690   \n",
       "4FGL J0001.2+4741             -11.863557  0.049796         0.009480   \n",
       "4FGL J0001.2-0747             -11.107484  0.037899         0.014316   \n",
       "...                                  ...       ...              ...   \n",
       "4FGL J2359.3+2502             -11.877070  0.135214         0.473850   \n",
       "4FGL J2359.3+1444             -11.627869  0.222978        -0.689550   \n",
       "4FGL J2359.7-5041             -11.952324  0.446554        -0.455627   \n",
       "4FGL J2359.9-3736             -11.756382  0.185941         0.285051   \n",
       "4FGL J2359.9+3145             -11.615293  0.139681         0.982413   \n",
       "\n",
       "                         GLON       GLAT  Signif_Avg CLASS1     5_PDF  \\\n",
       "4FGL J0000.3-7355  307.708984 -42.729538    8.492646   unas  0.126976   \n",
       "4FGL J0000.5+0743  101.656479 -53.029457    5.681097   unas  0.320507   \n",
       "4FGL J0000.7+2530  108.775070 -35.959175    4.197268   unas  0.000004   \n",
       "4FGL J0001.2+4741  114.250198 -14.338059    5.523873    bcu  0.039535   \n",
       "4FGL J0001.2-0747   89.032722 -67.305008   24.497219    bll  0.515618   \n",
       "...                       ...        ...         ...    ...       ...   \n",
       "4FGL J2359.3+2502  108.247383 -36.340054    5.558664   unas  0.004069   \n",
       "4FGL J2359.3+1444  104.564713 -46.256252    7.791155   unas  0.629332   \n",
       "4FGL J2359.7-5041  322.128052 -64.472755    5.150436    bcu  0.645864   \n",
       "4FGL J2359.9-3736  345.662842 -74.919624   11.475555    bcu  0.050086   \n",
       "4FGL J2359.9+3145  110.321007 -29.848009   11.307343    bcu  0.000009   \n",
       "\n",
       "                    RF_prob RF_class  PDF_prob PDF_class  \n",
       "4FGL J0000.3-7355  0.948705     bll+  0.575888      bll+  \n",
       "4FGL J0000.5+0743  0.491909    fsrq+  0.350479      bll+  \n",
       "4FGL J0000.7+2530  0.956818     bll+  0.968732      bll+  \n",
       "4FGL J0001.2+4741  0.903150     bll+  0.832919      bll+  \n",
       "4FGL J0001.2-0747  0.985132     bll+  0.515618     Gauss  \n",
       "...                     ...      ...       ...       ...  \n",
       "4FGL J2359.3+2502  0.939121     bll+  0.854659      bll+  \n",
       "4FGL J2359.3+1444  0.672280    fsrq+  0.629332     Gauss  \n",
       "4FGL J2359.7-5041  0.440625    fsrq+  0.645864     Gauss  \n",
       "4FGL J2359.9-3736  0.809720     bll+  0.661594      bll+  \n",
       "4FGL J2359.9+3145  0.987001     bll+  0.977235      bll+  \n",
       "\n",
       "[5859 rows x 12 columns]"
      ]
     },
     "execution_count": 115,
     "metadata": {},
     "output_type": "execute_result"
    }
   ],
   "source": [
    "out_df"
   ]
  },
  {
   "cell_type": "code",
   "execution_count": 116,
   "id": "23077a5f",
   "metadata": {},
   "outputs": [],
   "source": [
    "# calculate confusion matrix\n",
    "unas_mask = (out_df['CLASS1'] == 'unas') | (out_df['CLASS1'] == 'unk') #| (out_df['CLASS1'] == 'bcu')\n",
    "assoc_mask = ~unas_mask\n",
    "#unas_mask = (out_df['CLASS1'] == 'bcu')\n",
    "bmask = 10\n",
    "lat_mask = np.abs(out_df['GLAT']) < bmask\n",
    "mask = unas_mask & lat_mask\n",
    "classes1 = list(sum_df1.index)\n",
    "classes2 = list(sum_df2.index)\n",
    "if add_unc:\n",
    "    classes1.append(unc_name)\n",
    "    classes2.append(unc_name)\n",
    "conf_df = pd.DataFrame(columns=classes2, index=classes1)"
   ]
  },
  {
   "cell_type": "code",
   "execution_count": 117,
   "id": "03fade7d",
   "metadata": {},
   "outputs": [],
   "source": [
    "if add_unc:\n",
    "    for mdl in methods:\n",
    "        probs = out_df['%s_prob' % mdl]\n",
    "        unc_mask = probs < pmin\n",
    "        out_df.loc[unc_mask, '%s_class' % mdl] = unc_name\n",
    "for cl1 in classes1:\n",
    "    for cl2 in classes2:\n",
    "        #print(cl1, cl2)\n",
    "        #print(sum((out_df[mask]['RF_class'] == cl1)))\n",
    "        res = sum((out_df[mask]['RF_class'] == cl1) & (out_df[mask]['PDF_class'] == cl2))\n",
    "        conf_df.loc[cl1, cl2] = res\n"
   ]
  },
  {
   "cell_type": "code",
   "execution_count": 118,
   "id": "7648b26b",
   "metadata": {},
   "outputs": [],
   "source": [
    "conf_df.index.name = 'Covar\\Prior'"
   ]
  },
  {
   "cell_type": "code",
   "execution_count": 119,
   "id": "6055879b",
   "metadata": {},
   "outputs": [
    {
     "data": {
      "text/html": [
       "<div>\n",
       "<style scoped>\n",
       "    .dataframe tbody tr th:only-of-type {\n",
       "        vertical-align: middle;\n",
       "    }\n",
       "\n",
       "    .dataframe tbody tr th {\n",
       "        vertical-align: top;\n",
       "    }\n",
       "\n",
       "    .dataframe thead th {\n",
       "        text-align: right;\n",
       "    }\n",
       "</style>\n",
       "<table border=\"1\" class=\"dataframe\">\n",
       "  <thead>\n",
       "    <tr style=\"text-align: right;\">\n",
       "      <th></th>\n",
       "      <th>fsrq+</th>\n",
       "      <th>bll+</th>\n",
       "      <th>psr+</th>\n",
       "      <th>msp+</th>\n",
       "      <th>Gauss</th>\n",
       "      <th>uncert</th>\n",
       "    </tr>\n",
       "    <tr>\n",
       "      <th>Covar\\Prior</th>\n",
       "      <th></th>\n",
       "      <th></th>\n",
       "      <th></th>\n",
       "      <th></th>\n",
       "      <th></th>\n",
       "      <th></th>\n",
       "    </tr>\n",
       "  </thead>\n",
       "  <tbody>\n",
       "    <tr>\n",
       "      <th>fsrq+</th>\n",
       "      <td>9</td>\n",
       "      <td>0</td>\n",
       "      <td>0</td>\n",
       "      <td>0</td>\n",
       "      <td>21</td>\n",
       "      <td>2</td>\n",
       "    </tr>\n",
       "    <tr>\n",
       "      <th>bll+</th>\n",
       "      <td>5</td>\n",
       "      <td>75</td>\n",
       "      <td>0</td>\n",
       "      <td>0</td>\n",
       "      <td>0</td>\n",
       "      <td>13</td>\n",
       "    </tr>\n",
       "    <tr>\n",
       "      <th>psr+</th>\n",
       "      <td>37</td>\n",
       "      <td>5</td>\n",
       "      <td>19</td>\n",
       "      <td>9</td>\n",
       "      <td>175</td>\n",
       "      <td>21</td>\n",
       "    </tr>\n",
       "    <tr>\n",
       "      <th>msp+</th>\n",
       "      <td>0</td>\n",
       "      <td>0</td>\n",
       "      <td>2</td>\n",
       "      <td>80</td>\n",
       "      <td>176</td>\n",
       "      <td>16</td>\n",
       "    </tr>\n",
       "    <tr>\n",
       "      <th>uncert</th>\n",
       "      <td>79</td>\n",
       "      <td>21</td>\n",
       "      <td>0</td>\n",
       "      <td>37</td>\n",
       "      <td>338</td>\n",
       "      <td>35</td>\n",
       "    </tr>\n",
       "  </tbody>\n",
       "</table>\n",
       "</div>"
      ],
      "text/plain": [
       "            fsrq+ bll+ psr+ msp+ Gauss uncert\n",
       "Covar\\Prior                                  \n",
       "fsrq+           9    0    0    0    21      2\n",
       "bll+            5   75    0    0     0     13\n",
       "psr+           37    5   19    9   175     21\n",
       "msp+            0    0    2   80   176     16\n",
       "uncert         79   21    0   37   338     35"
      ]
     },
     "execution_count": 119,
     "metadata": {},
     "output_type": "execute_result"
    }
   ],
   "source": [
    "conf_df"
   ]
  },
  {
   "cell_type": "code",
   "execution_count": 120,
   "id": "4a85d558",
   "metadata": {},
   "outputs": [
    {
     "name": "stdout",
     "output_type": "stream",
     "text": [
      "\\begin{tabular}{lllllll}\n",
      "\\hline\n",
      " & fsrq+ & bll+ & psr+ & msp+ & Gauss & uncert \\\\\n",
      "Covar\\Prior &  &  &  &  &  &  \\\\\n",
      "\\hline\n",
      "fsrq+ & 9 & 0 & 0 & 0 & 21 & 2 \\\\\n",
      "bll+ & 5 & 75 & 0 & 0 & 0 & 13 \\\\\n",
      "psr+ & 37 & 5 & 19 & 9 & 175 & 21 \\\\\n",
      "msp+ & 0 & 0 & 2 & 80 & 176 & 16 \\\\\n",
      "uncert & 79 & 21 & 0 & 37 & 338 & 35 \\\\\n",
      "\\hline\n",
      "\\end{tabular}\n",
      "\n"
     ]
    }
   ],
   "source": [
    "txt = util.df2tex(conf_df, fmt='%.1f', index=True, index_name='')\n",
    "print(txt)"
   ]
  },
  {
   "cell_type": "code",
   "execution_count": 121,
   "id": "05d09fd9",
   "metadata": {},
   "outputs": [
    {
     "data": {
      "text/plain": [
       "(630, 1034)"
      ]
     },
     "execution_count": 121,
     "metadata": {},
     "output_type": "execute_result"
    }
   ],
   "source": [
    "sum(out_df['PDF_class'] == unc_name), sum(out_df['RF_class'] == unc_name)"
   ]
  },
  {
   "cell_type": "code",
   "execution_count": 122,
   "id": "43d7142e",
   "metadata": {},
   "outputs": [
    {
     "data": {
      "text/plain": [
       "(87, 510)"
      ]
     },
     "execution_count": 122,
     "metadata": {},
     "output_type": "execute_result"
    }
   ],
   "source": [
    "sum(out_df.loc[mask, 'PDF_class'] == unc_name), sum(out_df.loc[mask, 'RF_class'] == unc_name)"
   ]
  },
  {
   "cell_type": "code",
   "execution_count": 123,
   "id": "2760eb8f",
   "metadata": {},
   "outputs": [
    {
     "data": {
      "text/plain": [
       "913"
      ]
     },
     "execution_count": 123,
     "metadata": {},
     "output_type": "execute_result"
    }
   ],
   "source": [
    "sum((out_df['PDF_class'][unas_mask] == 'Gauss') & (out_df['PDF_prob'][unas_mask] > 0.5))"
   ]
  },
  {
   "cell_type": "code",
   "execution_count": 124,
   "id": "a03518cf",
   "metadata": {},
   "outputs": [
    {
     "data": {
      "text/plain": [
       "'5'"
      ]
     },
     "execution_count": 124,
     "metadata": {},
     "output_type": "execute_result"
    }
   ],
   "source": [
    "gind"
   ]
  },
  {
   "cell_type": "code",
   "execution_count": 125,
   "id": "3e4aeddd",
   "metadata": {},
   "outputs": [
    {
     "data": {
      "text/plain": [
       "1175"
      ]
     },
     "execution_count": 125,
     "metadata": {},
     "output_type": "execute_result"
    }
   ],
   "source": [
    "sum(mask)"
   ]
  },
  {
   "cell_type": "code",
   "execution_count": 126,
   "id": "a3c4dbec",
   "metadata": {},
   "outputs": [
    {
     "name": "stdout",
     "output_type": "stream",
     "text": [
      "psr+ 21\n",
      "bll+ 101\n",
      "fsrq+ 130\n",
      "uncert 87\n",
      "Gauss 710\n",
      "msp+ 126\n"
     ]
    }
   ],
   "source": [
    "for cl in set(out_df['PDF_class']):\n",
    "    print(cl, sum((out_df['PDF_class'][mask] == cl)))"
   ]
  },
  {
   "cell_type": "code",
   "execution_count": 143,
   "id": "953355be",
   "metadata": {},
   "outputs": [
    {
     "name": "stdout",
     "output_type": "stream",
     "text": [
      "High lat\n",
      "Class, expected number, fration, number of candidates\n",
      "fsrq+, 186.6, 0.186, 133\n",
      "bll+, 396.5, 0.395, 386\n",
      "psr+, 12.2, 0.012, 2\n",
      "msp+, 194.1, 0.193, 142\n",
      "Gauss, 214.6, 0.214, 203\n",
      "total number of unas and unk sources: 1004\n",
      "\n",
      "Low lat\n",
      "Class, expected number, fration, number of candidates\n",
      "fsrq+, 180.4, 0.153, 130\n",
      "bll+, 111.8, 0.095, 101\n",
      "psr+, 67.2, 0.057, 21\n",
      "msp+, 191.7, 0.163, 126\n",
      "Gauss, 624.0, 0.531, 710\n",
      "total number of unas and unk sources: 1175\n"
     ]
    }
   ],
   "source": [
    "print('High lat')\n",
    "print('Class, expected number, fration, number of candidates')\n",
    "lat_mask = np.abs(out_df['GLAT']) > bmask\n",
    "nunas = sum(unas_mask & lat_mask)\n",
    "\n",
    "for i, clm in enumerate(['1_PDF', '2_PDF', '3_PDF', '4_PDF', 'Gauss_PDF']):\n",
    "    cl = classes2[i]\n",
    "    nclexp = sum((cat_df2[clm][unas_mask & lat_mask]))\n",
    "    ncl = sum((out_df['PDF_class'][unas_mask & lat_mask] == cl))\n",
    "    print('%s, %.1f, %.3f, %i' % (classes2[i], nclexp, nclexp/nunas, ncl))\n",
    "print('total number of unas and unk sources: %i' % nunas)\n",
    "print()\n",
    "print('Low lat')\n",
    "print('Class, expected number, fration, number of candidates')\n",
    "lat_mask = np.abs(out_df['GLAT']) < bmask\n",
    "nunas = sum(unas_mask & lat_mask)\n",
    "for i, clm in enumerate(['1_PDF', '2_PDF', '3_PDF', '4_PDF', 'Gauss_PDF']):\n",
    "    cl = classes2[i]\n",
    "    nclexp = sum((cat_df2[clm][unas_mask & lat_mask]))\n",
    "    ncl = sum((out_df['PDF_class'][unas_mask & lat_mask] == cl))\n",
    "    print('%s, %.1f, %.3f, %i' % (classes2[i], nclexp, nclexp/nunas, ncl))\n",
    "print('total number of unas and unk sources: %i' % sum(unas_mask & lat_mask))\n"
   ]
  },
  {
   "cell_type": "code",
   "execution_count": 135,
   "id": "019a8bd0",
   "metadata": {},
   "outputs": [
    {
     "data": {
      "text/plain": [
       "['fsrq+', 'bll+', 'psr+', 'msp+', 'Gauss', 'uncert']"
      ]
     },
     "execution_count": 135,
     "metadata": {},
     "output_type": "execute_result"
    }
   ],
   "source": [
    "classes2"
   ]
  },
  {
   "cell_type": "code",
   "execution_count": null,
   "id": "810afa29",
   "metadata": {},
   "outputs": [],
   "source": []
  }
 ],
 "metadata": {
  "kernelspec": {
   "display_name": "Python 3 (ipykernel)",
   "language": "python",
   "name": "python3"
  },
  "language_info": {
   "codemirror_mode": {
    "name": "ipython",
    "version": 3
   },
   "file_extension": ".py",
   "mimetype": "text/x-python",
   "name": "python",
   "nbconvert_exporter": "python",
   "pygments_lexer": "ipython3",
   "version": "3.10.14"
  }
 },
 "nbformat": 4,
 "nbformat_minor": 5
}
